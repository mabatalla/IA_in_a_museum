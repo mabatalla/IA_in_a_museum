{
 "cells": [
  {
   "cell_type": "markdown",
   "source": [
    "# Is this Picasso? An AI goes to the museum.\n",
    "\n",
    "---\n",
    "\n",
    "### BASIC OPERATIONS\n",
    "In this notebook I will make basic operations with images and define the functions needed to build a dataset for this\n",
    " project."
   ],
   "metadata": {
    "collapsed": false,
    "pycharm": {
     "name": "#%% md\n"
    }
   }
  },
  {
   "cell_type": "markdown",
   "source": [
    "___\n",
    "### IMPORTS"
   ],
   "metadata": {
    "collapsed": false,
    "pycharm": {
     "name": "#%% md\n"
    }
   }
  },
  {
   "cell_type": "code",
   "execution_count": 3,
   "outputs": [],
   "source": [
    "# Modules used for data handling / test\n",
    "import csv\n",
    "import os\n",
    "\n",
    "from utils.data_handling import get_collection, show_collection\n",
    "from utils.image_handling import resize_img\n",
    "\n",
    "#from utils import get_collection, show_collection, nameof\n",
    "\n",
    "\n",
    "# Modules used for EDA\n",
    "import matplotlib.pyplot as plt\n",
    "import pandas as pd\n",
    "import seaborn as sns\n",
    "\n",
    "\n",
    "# Modules used for image processing\n",
    "#from utils import crop_img, chi_osc, extract_img_data, get_img_rgb\n",
    "#from utils import resize_img, reduce_col_palette, whitespace\n",
    "\n",
    "\n",
    "# Modules used for ML\n",
    "#from utils import color_quant"
   ],
   "metadata": {
    "collapsed": false,
    "pycharm": {
     "name": "#%%\n"
    }
   }
  },
  {
   "cell_type": "code",
   "execution_count": 4,
   "outputs": [],
   "source": [
    "# Modules settings\n",
    "%matplotlib inline\n",
    "\n",
    "sns.set_theme(style='whitegrid', rc={'figure.figsize': (20, 10)})"
   ],
   "metadata": {
    "collapsed": false,
    "pycharm": {
     "name": "#%%\n"
    }
   }
  },
  {
   "cell_type": "markdown",
   "source": [
    "___\n",
    "### UPDATE UTILS"
   ],
   "metadata": {
    "collapsed": false,
    "pycharm": {
     "name": "#%% md\n"
    }
   }
  },
  {
   "cell_type": "code",
   "execution_count": 3,
   "outputs": [],
   "source": [
    "# This cell only needs to be executed to update utils if modified after\n",
    "# being imported\n",
    "\n",
    "%run utils/data_handling\n",
    "%run utils/image_handling"
   ],
   "metadata": {
    "collapsed": false,
    "pycharm": {
     "name": "#%%\n"
    }
   }
  },
  {
   "cell_type": "markdown",
   "source": [
    "___\n",
    "### GETTING IMAGES"
   ],
   "metadata": {
    "collapsed": false
   }
  },
  {
   "cell_type": "code",
   "execution_count": 7,
   "outputs": [
    {
     "data": {
      "text/plain": "[PurePosixPath('sample_img/sample_img_05.jpg'),\n PurePosixPath('sample_img/sample_img_04.jpg'),\n PurePosixPath('sample_img/sample_img_03.jpg'),\n PurePosixPath('sample_img/sample_img_02.jpg'),\n PurePosixPath('sample_img/sample_img_01.jpg')]"
     },
     "execution_count": 7,
     "metadata": {},
     "output_type": "execute_result"
    }
   ],
   "source": [
    "collection = get_collection(path='./sample_img/', extensions=['.jpg'])\n",
    "\n",
    "collection"
   ],
   "metadata": {
    "collapsed": false,
    "pycharm": {
     "name": "#%%\n"
    }
   }
  },
  {
   "cell_type": "code",
   "execution_count": 8,
   "outputs": [
    {
     "ename": "UnboundLocalError",
     "evalue": "local variable 'grid_dims' referenced before assignment",
     "output_type": "error",
     "traceback": [
      "\u001B[0;31m---------------------------------------------------------------------------\u001B[0m",
      "\u001B[0;31mUnboundLocalError\u001B[0m                         Traceback (most recent call last)",
      "Input \u001B[0;32mIn [8]\u001B[0m, in \u001B[0;36m<cell line: 1>\u001B[0;34m()\u001B[0m\n\u001B[0;32m----> 1\u001B[0m \u001B[43mshow_collection\u001B[49m\u001B[43m(\u001B[49m\u001B[43mcollection\u001B[49m\u001B[43m)\u001B[49m\n",
      "File \u001B[0;32m/Volumes/GoogleDrive/My Drive/BatallaPro/01.- Programación/Code/Personal projects/Is this Picasso?/utils/data_handling.py:78\u001B[0m, in \u001B[0;36mshow_collection\u001B[0;34m(collection, cols)\u001B[0m\n\u001B[1;32m     73\u001B[0m \u001B[38;5;28;01melif\u001B[39;00m \u001B[38;5;28mlen\u001B[39m(collection) \u001B[38;5;241m>\u001B[39m \u001B[38;5;241m5\u001B[39m:\n\u001B[1;32m     74\u001B[0m     grid_dims \u001B[38;5;241m=\u001B[39m ((\u001B[38;5;28mlen\u001B[39m(collection)\u001B[38;5;241m/\u001B[39m\u001B[38;5;241m/\u001B[39mcols) \u001B[38;5;241m+\u001B[39m \u001B[38;5;241m1\u001B[39m, \u001B[38;5;241m5\u001B[39m)\n\u001B[1;32m     76\u001B[0m grid \u001B[38;5;241m=\u001B[39m ImageGrid(fig,\n\u001B[1;32m     77\u001B[0m                  \u001B[38;5;241m111\u001B[39m,\n\u001B[0;32m---> 78\u001B[0m                  nrows_ncols\u001B[38;5;241m=\u001B[39m\u001B[43mgrid_dims\u001B[49m,\n\u001B[1;32m     79\u001B[0m                  axes_pad\u001B[38;5;241m=\u001B[39m\u001B[38;5;241m0.5\u001B[39m)\n\u001B[1;32m     81\u001B[0m \u001B[38;5;28;01mfor\u001B[39;00m ax, work \u001B[38;5;129;01min\u001B[39;00m \u001B[38;5;28mzip\u001B[39m(grid, collection):\n\u001B[1;32m     82\u001B[0m     img_name \u001B[38;5;241m=\u001B[39m \u001B[38;5;28mstr\u001B[39m(work)\u001B[38;5;241m.\u001B[39msplit(sep\u001B[38;5;241m=\u001B[39m\u001B[38;5;124m'\u001B[39m\u001B[38;5;124m/\u001B[39m\u001B[38;5;124m'\u001B[39m)[\u001B[38;5;241m-\u001B[39m\u001B[38;5;241m1\u001B[39m]\u001B[38;5;241m.\u001B[39msplit(sep\u001B[38;5;241m=\u001B[39m\u001B[38;5;124m'\u001B[39m\u001B[38;5;124m.\u001B[39m\u001B[38;5;124m'\u001B[39m)[\u001B[38;5;241m0\u001B[39m]\n",
      "\u001B[0;31mUnboundLocalError\u001B[0m: local variable 'grid_dims' referenced before assignment"
     ]
    },
    {
     "data": {
      "text/plain": "<Figure size 1440x1440 with 0 Axes>"
     },
     "metadata": {},
     "output_type": "display_data"
    }
   ],
   "source": [
    "show_collection(collection)\n"
   ],
   "metadata": {
    "collapsed": false,
    "pycharm": {
     "name": "#%%\n"
    }
   }
  },
  {
   "cell_type": "code",
   "execution_count": null,
   "outputs": [],
   "source": [],
   "metadata": {
    "collapsed": false,
    "pycharm": {
     "name": "#%%\n"
    }
   }
  }
 ],
 "metadata": {
  "kernelspec": {
   "display_name": "Python 3",
   "language": "python",
   "name": "python3"
  },
  "language_info": {
   "codemirror_mode": {
    "name": "ipython",
    "version": 2
   },
   "file_extension": ".py",
   "mimetype": "text/x-python",
   "name": "python",
   "nbconvert_exporter": "python",
   "pygments_lexer": "ipython2",
   "version": "2.7.6"
  }
 },
 "nbformat": 4,
 "nbformat_minor": 0
}