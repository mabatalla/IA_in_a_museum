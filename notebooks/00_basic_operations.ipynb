{
 "cells": [
  {
   "cell_type": "markdown",
   "metadata": {
    "collapsed": false,
    "pycharm": {
     "name": "#%% md\n"
    }
   },
   "source": [
    "# Is this Picasso? An AI goes to the museum.\n",
    "\n",
    "---\n",
    "\n",
    "### BASIC OPERATIONS\n",
    "In this notebook I will make basic operations with images and define the functions needed to build a dataset for this\n",
    " project."
   ]
  },
  {
   "cell_type": "markdown",
   "metadata": {
    "collapsed": false,
    "pycharm": {
     "name": "#%% md\n"
    }
   },
   "source": [
    "___\n",
    "### AUTOUPDATE UTILS"
   ]
  },
  {
   "cell_type": "code",
   "execution_count": 1,
   "metadata": {
    "collapsed": false,
    "pycharm": {
     "name": "#%%\n"
    }
   },
   "outputs": [],
   "source": [
    "# %load_ext autoreload\n",
    "# %autoreload 2"
   ]
  },
  {
   "cell_type": "code",
   "execution_count": 2,
   "outputs": [],
   "source": [
    "# %reload_ext autoreload"
   ],
   "metadata": {
    "collapsed": false,
    "pycharm": {
     "name": "#%%\n"
    }
   }
  },
  {
   "cell_type": "markdown",
   "metadata": {
    "collapsed": false,
    "pycharm": {
     "name": "#%% md\n"
    }
   },
   "source": [
    "___\n",
    "### IMPORTS"
   ]
  },
  {
   "cell_type": "code",
   "execution_count": 11,
   "metadata": {
    "collapsed": false,
    "pycharm": {
     "name": "#%%\n"
    }
   },
   "outputs": [
    {
     "ename": "ImportError",
     "evalue": "cannot import name 'plot_colors' from partially initialized module 'utils.data_handling' (most likely due to a circular import) (/Volumes/GoogleDrive/My Drive/BatallaPro/01.- Programación/Code/Personal projects/Museum_AI/utils/data_handling.py)",
     "output_type": "error",
     "traceback": [
      "\u001B[0;31m---------------------------------------------------------------------------\u001B[0m",
      "\u001B[0;31mImportError\u001B[0m                               Traceback (most recent call last)",
      "Input \u001B[0;32mIn [11]\u001B[0m, in \u001B[0;36m<cell line: 4>\u001B[0;34m()\u001B[0m\n\u001B[1;32m      1\u001B[0m \u001B[38;5;28;01mimport\u001B[39;00m \u001B[38;5;21;01mmatplotlib\u001B[39;00m\u001B[38;5;21;01m.\u001B[39;00m\u001B[38;5;21;01mpyplot\u001B[39;00m \u001B[38;5;28;01mas\u001B[39;00m \u001B[38;5;21;01mplt\u001B[39;00m\n\u001B[1;32m      2\u001B[0m \u001B[38;5;28;01mimport\u001B[39;00m \u001B[38;5;21;01mseaborn\u001B[39;00m \u001B[38;5;28;01mas\u001B[39;00m \u001B[38;5;21;01msns\u001B[39;00m\n\u001B[0;32m----> 4\u001B[0m \u001B[38;5;28;01mfrom\u001B[39;00m \u001B[38;5;21;01mutils\u001B[39;00m\u001B[38;5;21;01m.\u001B[39;00m\u001B[38;5;21;01mdata_handling\u001B[39;00m \u001B[38;5;28;01mimport\u001B[39;00m get_collection\n\u001B[1;32m      5\u001B[0m \u001B[38;5;28;01mfrom\u001B[39;00m \u001B[38;5;21;01mutils\u001B[39;00m\u001B[38;5;21;01m.\u001B[39;00m\u001B[38;5;21;01mdata_handling\u001B[39;00m \u001B[38;5;28;01mimport\u001B[39;00m process_collection\n\u001B[1;32m      6\u001B[0m \u001B[38;5;28;01mfrom\u001B[39;00m \u001B[38;5;21;01mutils\u001B[39;00m\u001B[38;5;21;01m.\u001B[39;00m\u001B[38;5;21;01mdata_handling\u001B[39;00m \u001B[38;5;28;01mimport\u001B[39;00m show_collection\n",
      "File \u001B[0;32m/Volumes/GoogleDrive/My Drive/BatallaPro/01.- Programación/Code/Personal projects/Museum_AI/utils/data_handling.py:15\u001B[0m, in \u001B[0;36m<module>\u001B[0;34m\u001B[0m\n\u001B[1;32m     12\u001B[0m \u001B[38;5;28;01mfrom\u001B[39;00m \u001B[38;5;21;01mmpl_toolkits\u001B[39;00m\u001B[38;5;21;01m.\u001B[39;00m\u001B[38;5;21;01maxes_grid1\u001B[39;00m \u001B[38;5;28;01mimport\u001B[39;00m ImageGrid\n\u001B[1;32m     13\u001B[0m \u001B[38;5;28;01mfrom\u001B[39;00m \u001B[38;5;21;01mpathlib\u001B[39;00m \u001B[38;5;28;01mimport\u001B[39;00m PurePath\n\u001B[0;32m---> 15\u001B[0m \u001B[38;5;28;01mfrom\u001B[39;00m \u001B[38;5;21;01mutils\u001B[39;00m\u001B[38;5;21;01m.\u001B[39;00m\u001B[38;5;21;01mimage_processing\u001B[39;00m \u001B[38;5;28;01mimport\u001B[39;00m get_img_rgb\n\u001B[1;32m     16\u001B[0m \u001B[38;5;28;01mfrom\u001B[39;00m \u001B[38;5;21;01mutils\u001B[39;00m\u001B[38;5;21;01m.\u001B[39;00m\u001B[38;5;21;01mimage_processing\u001B[39;00m \u001B[38;5;28;01mimport\u001B[39;00m square_img\n\u001B[1;32m     17\u001B[0m \u001B[38;5;28;01mfrom\u001B[39;00m \u001B[38;5;21;01mutils\u001B[39;00m\u001B[38;5;21;01m.\u001B[39;00m\u001B[38;5;21;01mimage_processing\u001B[39;00m \u001B[38;5;28;01mimport\u001B[39;00m reduce_col_palette\n",
      "File \u001B[0;32m/Volumes/GoogleDrive/My Drive/BatallaPro/01.- Programación/Code/Personal projects/Museum_AI/utils/image_processing.py:12\u001B[0m, in \u001B[0;36m<module>\u001B[0;34m\u001B[0m\n\u001B[1;32m      9\u001B[0m \u001B[38;5;28;01mfrom\u001B[39;00m \u001B[38;5;21;01mcollections\u001B[39;00m \u001B[38;5;28;01mimport\u001B[39;00m Counter\n\u001B[1;32m     10\u001B[0m \u001B[38;5;28;01mfrom\u001B[39;00m \u001B[38;5;21;01msklearn\u001B[39;00m\u001B[38;5;21;01m.\u001B[39;00m\u001B[38;5;21;01mcluster\u001B[39;00m \u001B[38;5;28;01mimport\u001B[39;00m KMeans\n\u001B[0;32m---> 12\u001B[0m \u001B[38;5;28;01mfrom\u001B[39;00m \u001B[38;5;21;01mutils\u001B[39;00m\u001B[38;5;21;01m.\u001B[39;00m\u001B[38;5;21;01mdata_handling\u001B[39;00m \u001B[38;5;28;01mimport\u001B[39;00m plot_colors\n\u001B[1;32m     13\u001B[0m \u001B[38;5;28;01mfrom\u001B[39;00m \u001B[38;5;21;01mutils\u001B[39;00m\u001B[38;5;21;01m.\u001B[39;00m\u001B[38;5;21;01mdata_handling\u001B[39;00m \u001B[38;5;28;01mimport\u001B[39;00m rgb_to_hex\n\u001B[1;32m     16\u001B[0m \u001B[38;5;66;03m# FUNCTIONS\u001B[39;00m\n",
      "\u001B[0;31mImportError\u001B[0m: cannot import name 'plot_colors' from partially initialized module 'utils.data_handling' (most likely due to a circular import) (/Volumes/GoogleDrive/My Drive/BatallaPro/01.- Programación/Code/Personal projects/Museum_AI/utils/data_handling.py)"
     ]
    }
   ],
   "source": [
    "import matplotlib.pyplot as plt\n",
    "import seaborn as sns\n",
    "\n",
    "from utils.data_handling import get_collection\n",
    "from utils.data_handling import process_collection\n",
    "from utils.data_handling import show_collection\n",
    "\n",
    "from utils.image_processing import color_clustering\n",
    "from utils.image_processing import get_img_rgb\n",
    "from utils.image_processing import reduce_col_palette\n",
    "from utils.image_processing import resize_img\n",
    "from utils.image_processing import square_img"
   ]
  },
  {
   "cell_type": "markdown",
   "metadata": {
    "collapsed": false,
    "pycharm": {
     "name": "#%% md\n"
    }
   },
   "source": [
    "___\n",
    "### MODULES SETTINGS"
   ]
  },
  {
   "cell_type": "code",
   "execution_count": 4,
   "metadata": {
    "collapsed": false,
    "pycharm": {
     "name": "#%%\n"
    }
   },
   "outputs": [],
   "source": [
    "%matplotlib inline\n",
    "\n",
    "sns.set_theme(style='whitegrid',\n",
    "              rc={'figure.figsize': (20, 10),\n",
    "                  'axes.grid' : False})"
   ]
  },
  {
   "cell_type": "markdown",
   "metadata": {
    "collapsed": false,
    "pycharm": {
     "name": "#%% md\n"
    }
   },
   "source": [
    "___\n",
    "### GETTING IMAGES"
   ]
  },
  {
   "cell_type": "code",
   "execution_count": null,
   "metadata": {
    "collapsed": false,
    "pycharm": {
     "name": "#%%\n"
    }
   },
   "outputs": [],
   "source": [
    "collection = get_collection(path='../sample_img/', extensions=['.jpg'])"
   ]
  },
  {
   "cell_type": "code",
   "execution_count": null,
   "metadata": {
    "collapsed": false,
    "pycharm": {
     "name": "#%%\n"
    }
   },
   "outputs": [],
   "source": [
    "show_collection(collection)"
   ]
  },
  {
   "cell_type": "markdown",
   "source": [
    "___\n",
    "### PROCESSING IMAGES"
   ],
   "metadata": {
    "collapsed": false,
    "pycharm": {
     "name": "#%% md\n"
    }
   }
  },
  {
   "cell_type": "code",
   "execution_count": null,
   "metadata": {
    "collapsed": false,
    "pycharm": {
     "name": "#%%\n"
    }
   },
   "outputs": [],
   "source": [
    "img = get_img_rgb('../sample_img/secret/sample_img_secret.jpeg')\n",
    "plt.imshow(img);"
   ]
  },
  {
   "cell_type": "code",
   "execution_count": null,
   "metadata": {
    "collapsed": false,
    "pycharm": {
     "name": "#%%\n"
    }
   },
   "outputs": [],
   "source": [
    "img = resize_img(img, 150)\n",
    "plt.imshow(img);"
   ]
  },
  {
   "cell_type": "code",
   "execution_count": null,
   "metadata": {
    "collapsed": false,
    "pycharm": {
     "name": "#%%\n"
    }
   },
   "outputs": [],
   "source": [
    "img = reduce_col_palette(img, 5, info=True)\n",
    "plt.imshow(img);"
   ]
  },
  {
   "cell_type": "code",
   "execution_count": null,
   "metadata": {
    "collapsed": false,
    "pycharm": {
     "name": "#%%\n"
    }
   },
   "outputs": [],
   "source": [
    "img = square_img(img, 150)\n",
    "plt.imshow(img);"
   ]
  },
  {
   "cell_type": "code",
   "execution_count": null,
   "metadata": {
    "collapsed": false,
    "pycharm": {
     "name": "#%%\n"
    }
   },
   "outputs": [],
   "source": [
    "RGB, HEX = color_clustering(img, 5, show_chart=True)"
   ]
  },
  {
   "cell_type": "markdown",
   "metadata": {
    "collapsed": false,
    "pycharm": {
     "name": "#%% md\n"
    }
   },
   "source": [
    "___\n",
    "### PROCESSING COLLECTION"
   ]
  },
  {
   "cell_type": "code",
   "execution_count": 19,
   "outputs": [
    {
     "name": "stdout",
     "output_type": "stream",
     "text": [
      "5 exceptions raised during the process. Check errors_log for more info.\n"
     ]
    }
   ],
   "source": [
    "data, errors_log = process_collection(collection)"
   ],
   "metadata": {
    "collapsed": false,
    "pycharm": {
     "name": "#%%\n"
    }
   }
  },
  {
   "cell_type": "code",
   "execution_count": 24,
   "outputs": [
    {
     "name": "stdout",
     "output_type": "stream",
     "text": [
      "5 exceptions raised during the process. Check errors_log for more info.\n"
     ]
    }
   ],
   "source": [
    "def process_collection(collection,\n",
    "                       resize_height=150,\n",
    "                       label='new_label',\n",
    "                       save=False,\n",
    "                       save_path=False):\n",
    "    \"\"\"\n",
    "    Process images of a collection and extracts color data.\n",
    "\n",
    "    Parameters\n",
    "    ----------\n",
    "    collection : list\n",
    "        List with paths to images\n",
    "    resize_height : int\n",
    "        Desired height in pixels\n",
    "    label : str\n",
    "        Label for the images and data\n",
    "    save : bool\n",
    "        Whether to save data and images\n",
    "    save_path: str\n",
    "        Path in which save data and images\n",
    "\n",
    "    Returns\n",
    "    -------\n",
    "    collection_data : list\n",
    "        List of features extracted\n",
    "\n",
    "    errors_log : list\n",
    "        List of files that raised an exception\n",
    "    \"\"\"\n",
    "    collection_data = []\n",
    "    errors = 0\n",
    "    errors_log = []\n",
    "    index = infinite_sequence()\n",
    "\n",
    "    if save:\n",
    "        # Set origin dir\n",
    "        origin_dir = os.getcwd()\n",
    "\n",
    "        if save_path:\n",
    "            # Move to save_path\n",
    "            os.chdir(save_path)\n",
    "\n",
    "        # Create new dir\n",
    "        os.mkdir(label)\n",
    "\n",
    "    for img in collection:\n",
    "        img_path = str(img)\n",
    "        img_name = img_path.split(sep='/')[-1].split(sep='.')[0]\n",
    "\n",
    "        try:\n",
    "            # Get image RGB and resize\n",
    "            img = get_img_rgb(img)\n",
    "            img = resize_img(img, resize_height)\n",
    "\n",
    "            # Get ratio\n",
    "            dim_ratio = round(img.shape[0] / img.shape[1], ndigits=5)\n",
    "\n",
    "            # Resize to reduce_col_palette and color_clustering\n",
    "            img = square_img(img, 150)\n",
    "            img = reduce_col_palette(img, 5)\n",
    "\n",
    "            # Get color features\n",
    "            chiaroscuro, whitespace_ratio = get_color_features(img)\n",
    "\n",
    "            # Gather image data\n",
    "            img_data = [label, img_name, dim_ratio, chiaroscuro, whitespace_ratio]\n",
    "\n",
    "            # Add img_data to collection_data\n",
    "            collection_data.append(img_data)\n",
    "\n",
    "            if save:\n",
    "                # Revert img to BGR before saving\n",
    "                img_to_save = cvtColor(img, COLOR_RGB2BGR)\n",
    "\n",
    "                # Save image\n",
    "                save_img(f'{os.getcwd()}/{label}/{img_name}_{str(next(index))}', img_to_save)\n",
    "\n",
    "        except (BaseException, Exception):\n",
    "            errors += 1\n",
    "            errors_log.append(img_name)\n",
    "            continue\n",
    "\n",
    "    if save:\n",
    "        # Save collection data\n",
    "        with open(f'{os.getcwd()}/{label}/{label}.csv', \"w\", newline=\"\") as file:\n",
    "            quill = writer(file)\n",
    "            quill.writerows(collection_data)\n",
    "\n",
    "        # Go back to origin dir\n",
    "        os.chdir(origin_dir)\n",
    "\n",
    "    # Inform user\n",
    "    print(f'{errors} exceptions raised during the process. Check errors_log for more info.')\n",
    "\n",
    "    return collection_data, errors_log\n",
    "\n",
    "def infinite_sequence():\n",
    "    num = 0\n",
    "    while True:\n",
    "        yield num\n",
    "        num += 1\n",
    "\n",
    "data, errors_log = process_collection(collection)"
   ],
   "metadata": {
    "collapsed": false,
    "pycharm": {
     "name": "#%%\n"
    }
   }
  },
  {
   "cell_type": "markdown",
   "source": [
    "___\n",
    "### BUILDING THE ALGORITHM"
   ],
   "metadata": {
    "collapsed": false,
    "pycharm": {
     "name": "#%% md\n"
    }
   }
  },
  {
   "cell_type": "code",
   "execution_count": 91,
   "metadata": {
    "collapsed": false,
    "pycharm": {
     "name": "#%%\n"
    }
   },
   "outputs": [
    {
     "name": "stdout",
     "output_type": "stream",
     "text": [
      "Palette reduced to 64 colors.\n",
      "CPU times: user 33.8 s, sys: 426 ms, total: 34.3 s\n",
      "Wall time: 35 s\n"
     ]
    }
   ],
   "source": [
    "%%time\n",
    "\n",
    "img = get_img_rgb('../sample_img/secret/sample_img_secret.jpeg')\n",
    "img = reduce_col_palette(img, 4, info=True)\n",
    "img = square_img(img, 150)"
   ]
  },
  {
   "cell_type": "code",
   "execution_count": 92,
   "metadata": {
    "collapsed": false,
    "pycharm": {
     "name": "#%%\n"
    }
   },
   "outputs": [
    {
     "name": "stdout",
     "output_type": "stream",
     "text": [
      "Palette reduced to 64 colors.\n",
      "CPU times: user 835 ms, sys: 13.3 ms, total: 848 ms\n",
      "Wall time: 871 ms\n"
     ]
    }
   ],
   "source": [
    "%%time\n",
    "\n",
    "img = get_img_rgb('../sample_img/secret/sample_img_secret.jpeg')\n",
    "img = resize_img(img, 150)\n",
    "img = reduce_col_palette(img, 4, info=True)\n",
    "img = square_img(img, 150)"
   ]
  },
  {
   "cell_type": "code",
   "execution_count": 93,
   "metadata": {
    "collapsed": false,
    "pycharm": {
     "name": "#%%\n"
    }
   },
   "outputs": [
    {
     "name": "stdout",
     "output_type": "stream",
     "text": [
      "Palette reduced to 64 colors.\n",
      "CPU times: user 482 ms, sys: 7.19 ms, total: 489 ms\n",
      "Wall time: 496 ms\n"
     ]
    }
   ],
   "source": [
    "%%time\n",
    "\n",
    "img = get_img_rgb('../sample_img/secret/sample_img_secret.jpeg')\n",
    "img = square_img(img, 150)\n",
    "img = reduce_col_palette(img, 4, info=True)"
   ]
  },
  {
   "cell_type": "code",
   "execution_count": 24,
   "outputs": [
    {
     "name": "stdout",
     "output_type": "stream",
     "text": [
      "CPU times: user 9.45 ms, sys: 60 µs, total: 9.51 ms\n",
      "Wall time: 9.5 ms\n"
     ]
    }
   ],
   "source": [
    "%%time\n",
    "\n",
    "for px in np.nditer(img):\n",
    "    a = 1 + 1"
   ],
   "metadata": {
    "collapsed": false,
    "pycharm": {
     "name": "#%%\n"
    }
   }
  },
  {
   "cell_type": "code",
   "execution_count": 25,
   "outputs": [
    {
     "name": "stdout",
     "output_type": "stream",
     "text": [
      "CPU times: user 2.34 ms, sys: 34 µs, total: 2.38 ms\n",
      "Wall time: 2.45 ms\n"
     ]
    }
   ],
   "source": [
    "%%time\n",
    "\n",
    "for row in range(img.shape[0]):\n",
    "    for col in range(img.shape[1]):\n",
    "        a = 1 + 1"
   ],
   "metadata": {
    "collapsed": false,
    "pycharm": {
     "name": "#%%\n"
    }
   }
  }
 ],
 "metadata": {
  "interpreter": {
   "hash": "74bffd5c4de7785f509efaf948568eba818834325ca1dcf429db02b7f707b8af"
  },
  "kernelspec": {
   "display_name": "Python 3.9.7 ('bridge')",
   "language": "python",
   "name": "python3"
  },
  "language_info": {
   "codemirror_mode": {
    "name": "ipython",
    "version": 3
   },
   "file_extension": ".py",
   "mimetype": "text/x-python",
   "name": "python",
   "nbconvert_exporter": "python",
   "pygments_lexer": "ipython3",
   "version": "3.9.7"
  }
 },
 "nbformat": 4,
 "nbformat_minor": 0
}